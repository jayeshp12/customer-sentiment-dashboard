{
 "cells": [
  {
   "cell_type": "code",
   "execution_count": 1,
   "id": "5bb877ef",
   "metadata": {},
   "outputs": [
    {
     "name": "stdout",
     "output_type": "stream",
     "text": [
      "Ratings Distribution (Counts):\n",
      "5.0    6938\n",
      "4.0    2084\n",
      "3.0     772\n",
      "2.0     250\n",
      "1.0     217\n",
      "Name: overall, dtype: int64\n",
      "\n",
      "Ratings Distribution (Percentages):\n",
      "5.0    67.615242\n",
      "4.0    20.309911\n",
      "3.0     7.523633\n",
      "2.0     2.436410\n",
      "1.0     2.114804\n",
      "Name: overall, dtype: float64\n",
      "\n",
      "Most common rating: 5.0 (6938 reviews)\n",
      "\n",
      "Percentage of positive reviews (4 or 5 stars): 87.93%\n",
      "Percentage of negative reviews (1 or 2 stars): 4.55%\n"
     ]
    }
   ],
   "source": [
    "import pandas as pd\n",
    "import numpy as np\n",
    "\n",
    "# Load the cleaned dataset\n",
    "cleaned_data_path = '../data/processed/Musical_Instruments_cleaned.csv'\n",
    "df = pd.read_csv(cleaned_data_path)\n",
    "\n",
    "# Analyze distribution of ratings\n",
    "rating_counts = df['overall'].value_counts()\n",
    "rating_percentages = df['overall'].value_counts(normalize=True) * 100\n",
    "\n",
    "# Display results\n",
    "print(\"Ratings Distribution (Counts):\")\n",
    "print(rating_counts)\n",
    "print(\"\\nRatings Distribution (Percentages):\")\n",
    "print(rating_percentages)\n",
    "\n",
    "# Calculate mode\n",
    "most_common_rating = rating_counts.idxmax()\n",
    "print(f\"\\nMost common rating: {most_common_rating} ({rating_counts[most_common_rating]} reviews)\")\n",
    "\n",
    "# Positive reviews (4 or 5 stars)\n",
    "positive_reviews = rating_percentages[4] + rating_percentages[5]\n",
    "print(f\"\\nPercentage of positive reviews (4 or 5 stars): {positive_reviews:.2f}%\")\n",
    "\n",
    "# Negative reviews (1 or 2 stars)\n",
    "negative_reviews = rating_percentages[1] + rating_percentages[2]\n",
    "print(f\"Percentage of negative reviews (1 or 2 stars): {negative_reviews:.2f}%\")\n",
    "\n",
    "\n"
   ]
  },
  {
   "cell_type": "code",
   "execution_count": null,
   "id": "1a5ebdff",
   "metadata": {},
   "outputs": [],
   "source": []
  }
 ],
 "metadata": {
  "kernelspec": {
   "display_name": "Python 3 (ipykernel)",
   "language": "python",
   "name": "python3"
  },
  "language_info": {
   "codemirror_mode": {
    "name": "ipython",
    "version": 3
   },
   "file_extension": ".py",
   "mimetype": "text/x-python",
   "name": "python",
   "nbconvert_exporter": "python",
   "pygments_lexer": "ipython3",
   "version": "3.9.13"
  }
 },
 "nbformat": 4,
 "nbformat_minor": 5
}

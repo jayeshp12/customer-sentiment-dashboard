{
 "cells": [
  {
   "cell_type": "code",
   "execution_count": 1,
   "id": "9317f1f3",
   "metadata": {},
   "outputs": [
    {
     "name": "stderr",
     "output_type": "stream",
     "text": [
      "/Users/dinabandhupanigrahi/opt/anaconda3/lib/python3.9/site-packages/pandas/core/computation/expressions.py:21: UserWarning: Pandas requires version '2.8.4' or newer of 'numexpr' (version '2.8.3' currently installed).\n",
      "  from pandas.core.computation.check import NUMEXPR_INSTALLED\n",
      "/Users/dinabandhupanigrahi/opt/anaconda3/lib/python3.9/site-packages/pandas/core/arrays/masked.py:60: UserWarning: Pandas requires version '1.3.6' or newer of 'bottleneck' (version '1.3.5' currently installed).\n",
      "  from pandas.core import (\n"
     ]
    },
    {
     "name": "stdout",
     "output_type": "stream",
     "text": [
      "scikit-learn is functional!\n",
      "\n",
      "Top Words for Each Topic:\n",
      "Topic 1: amp, power, just, really, dont, strap, like, quality, screws, im\n",
      "Topic 2: pedal, guitar, strap, use, just, sound, like, dont, price, good\n",
      "Topic 3: guitar, strings, just, use, like, good, does, dont, string, sound\n",
      "\n",
      "Topic Distribution Across Reviews:\n",
      "topic\n",
      "2    0.539175\n",
      "1    0.278351\n",
      "0    0.182474\n",
      "Name: proportion, dtype: float64\n"
     ]
    },
    {
     "name": "stderr",
     "output_type": "stream",
     "text": [
      "/Users/dinabandhupanigrahi/opt/anaconda3/lib/python3.9/site-packages/pandas/core/computation/expressions.py:21: UserWarning: Pandas requires version '2.8.4' or newer of 'numexpr' (version '2.8.3' currently installed).\n",
      "  from pandas.core.computation.check import NUMEXPR_INSTALLED\n",
      "/Users/dinabandhupanigrahi/opt/anaconda3/lib/python3.9/site-packages/pandas/core/computation/expressions.py:21: UserWarning: Pandas requires version '2.8.4' or newer of 'numexpr' (version '2.8.3' currently installed).\n",
      "  from pandas.core.computation.check import NUMEXPR_INSTALLED\n",
      "/Users/dinabandhupanigrahi/opt/anaconda3/lib/python3.9/site-packages/pandas/core/arrays/masked.py:60: UserWarning: Pandas requires version '1.3.6' or newer of 'bottleneck' (version '1.3.5' currently installed).\n",
      "  from pandas.core import (\n",
      "/Users/dinabandhupanigrahi/opt/anaconda3/lib/python3.9/site-packages/pandas/core/arrays/masked.py:60: UserWarning: Pandas requires version '1.3.6' or newer of 'bottleneck' (version '1.3.5' currently installed).\n",
      "  from pandas.core import (\n",
      "/Users/dinabandhupanigrahi/opt/anaconda3/lib/python3.9/site-packages/pandas/core/computation/expressions.py:21: UserWarning: Pandas requires version '2.8.4' or newer of 'numexpr' (version '2.8.3' currently installed).\n",
      "  from pandas.core.computation.check import NUMEXPR_INSTALLED\n",
      "/Users/dinabandhupanigrahi/opt/anaconda3/lib/python3.9/site-packages/pandas/core/arrays/masked.py:60: UserWarning: Pandas requires version '1.3.6' or newer of 'bottleneck' (version '1.3.5' currently installed).\n",
      "  from pandas.core import (\n",
      "/Users/dinabandhupanigrahi/opt/anaconda3/lib/python3.9/site-packages/pandas/core/computation/expressions.py:21: UserWarning: Pandas requires version '2.8.4' or newer of 'numexpr' (version '2.8.3' currently installed).\n",
      "  from pandas.core.computation.check import NUMEXPR_INSTALLED\n",
      "/Users/dinabandhupanigrahi/opt/anaconda3/lib/python3.9/site-packages/pandas/core/computation/expressions.py:21: UserWarning: Pandas requires version '2.8.4' or newer of 'numexpr' (version '2.8.3' currently installed).\n",
      "  from pandas.core.computation.check import NUMEXPR_INSTALLED\n",
      "/Users/dinabandhupanigrahi/opt/anaconda3/lib/python3.9/site-packages/pandas/core/arrays/masked.py:60: UserWarning: Pandas requires version '1.3.6' or newer of 'bottleneck' (version '1.3.5' currently installed).\n",
      "  from pandas.core import (\n",
      "/Users/dinabandhupanigrahi/opt/anaconda3/lib/python3.9/site-packages/pandas/core/arrays/masked.py:60: UserWarning: Pandas requires version '1.3.6' or newer of 'bottleneck' (version '1.3.5' currently installed).\n",
      "  from pandas.core import (\n",
      "/Users/dinabandhupanigrahi/opt/anaconda3/lib/python3.9/site-packages/pandas/core/computation/expressions.py:21: UserWarning: Pandas requires version '2.8.4' or newer of 'numexpr' (version '2.8.3' currently installed).\n",
      "  from pandas.core.computation.check import NUMEXPR_INSTALLED\n",
      "/Users/dinabandhupanigrahi/opt/anaconda3/lib/python3.9/site-packages/pandas/core/computation/expressions.py:21: UserWarning: Pandas requires version '2.8.4' or newer of 'numexpr' (version '2.8.3' currently installed).\n",
      "  from pandas.core.computation.check import NUMEXPR_INSTALLED\n",
      "/Users/dinabandhupanigrahi/opt/anaconda3/lib/python3.9/site-packages/pandas/core/arrays/masked.py:60: UserWarning: Pandas requires version '1.3.6' or newer of 'bottleneck' (version '1.3.5' currently installed).\n",
      "  from pandas.core import (\n",
      "/Users/dinabandhupanigrahi/opt/anaconda3/lib/python3.9/site-packages/pandas/core/arrays/masked.py:60: UserWarning: Pandas requires version '1.3.6' or newer of 'bottleneck' (version '1.3.5' currently installed).\n",
      "  from pandas.core import (\n",
      "/Users/dinabandhupanigrahi/opt/anaconda3/lib/python3.9/site-packages/pandas/core/computation/expressions.py:21: UserWarning: Pandas requires version '2.8.4' or newer of 'numexpr' (version '2.8.3' currently installed).\n",
      "  from pandas.core.computation.check import NUMEXPR_INSTALLED\n",
      "/Users/dinabandhupanigrahi/opt/anaconda3/lib/python3.9/site-packages/pandas/core/arrays/masked.py:60: UserWarning: Pandas requires version '1.3.6' or newer of 'bottleneck' (version '1.3.5' currently installed).\n",
      "  from pandas.core import (\n"
     ]
    },
    {
     "name": "stdout",
     "output_type": "stream",
     "text": [
      "Interactive topic modeling visualization saved as 'topic_modeling_vis.html'.\n"
     ]
    }
   ],
   "source": [
    "# Import necessary libraries\n",
    "import pandas as pd\n",
    "import numpy as np\n",
    "from nltk.sentiment.vader import SentimentIntensityAnalyzer\n",
    "from sklearn.feature_extraction.text import CountVectorizer\n",
    "from sklearn.decomposition import LatentDirichletAllocation\n",
    "import pyLDAvis\n",
    "import matplotlib.pyplot as plt\n",
    "\n",
    "# Verify scikit-learn functionality\n",
    "print(\"scikit-learn is functional!\")\n",
    "\n",
    "# Initialize sentiment analyzer\n",
    "sid = SentimentIntensityAnalyzer()\n",
    "\n",
    "# Load the processed dataset\n",
    "file_path = '/Users/dinabandhupanigrahi/customer-sentiment-dashboard/data/processed/Musical_Instruments_cleaned.csv'\n",
    "df = pd.read_csv(file_path)\n",
    "\n",
    "# Precompute additional variables\n",
    "df['review_length'] = df['reviewText'].fillna('').apply(len)  # Review length\n",
    "df['reviewText'] = df['reviewText'].fillna('').astype(str)    # Ensure text is string\n",
    "\n",
    "# Sentiment Scores and Classification\n",
    "df['sentiment_score'] = df['reviewText'].apply(lambda x: sid.polarity_scores(x)['compound'])\n",
    "df['sentiment'] = df['sentiment_score'].apply(\n",
    "    lambda x: 'positive' if x > 0.05 else 'negative' if x < -0.05 else 'neutral'\n",
    ")\n",
    "\n",
    "# Filter negative reviews\n",
    "negative_reviews = df[df['sentiment'] == 'negative'].copy()\n",
    "\n",
    "# Vectorize the text data for topic modeling\n",
    "count_vectorizer = CountVectorizer(max_df=0.9, min_df=2, stop_words='english')\n",
    "count_matrix = count_vectorizer.fit_transform(negative_reviews['reviewText'])\n",
    "\n",
    "# Perform LDA\n",
    "num_topics = 3  # Adjust based on dataset\n",
    "lda = LatentDirichletAllocation(n_components=num_topics, random_state=42)\n",
    "lda.fit(count_matrix)\n",
    "\n",
    "# Display top words for each topic\n",
    "terms = count_vectorizer.get_feature_names_out()\n",
    "print(\"\\nTop Words for Each Topic:\")\n",
    "for idx, topic in enumerate(lda.components_):\n",
    "    top_terms = [terms[i] for i in topic.argsort()[-10:][::-1]]\n",
    "    print(f\"Topic {idx + 1}: {', '.join(top_terms)}\")\n",
    "\n",
    "# Assign topics to reviews\n",
    "negative_reviews['topic'] = lda.transform(count_matrix).argmax(axis=1)\n",
    "\n",
    "# Analyze topic distribution\n",
    "print(\"\\nTopic Distribution Across Reviews:\")\n",
    "print(negative_reviews['topic'].value_counts(normalize=True))\n",
    "\n",
    "# Visualize topics with pyLDAvis\n",
    "pyLDAvis.enable_notebook()\n",
    "\n",
    "# Calculate term frequencies\n",
    "term_frequency = count_matrix.sum(axis=0).A1\n",
    "vocab = count_vectorizer.get_feature_names_out()\n",
    "\n",
    "# Prepare visualization\n",
    "vis = pyLDAvis.prepare(\n",
    "    topic_term_dists=lda.components_,\n",
    "    doc_topic_dists=lda.transform(count_matrix),\n",
    "    doc_lengths=count_matrix.sum(axis=1).A1,\n",
    "    vocab=vocab,\n",
    "    term_frequency=term_frequency,\n",
    ")\n",
    "pyLDAvis.save_html(vis, 'topic_modeling_vis.html')\n",
    "print(\"Interactive topic modeling visualization saved as 'topic_modeling_vis.html'.\")\n"
   ]
  },
  {
   "cell_type": "code",
   "execution_count": null,
   "id": "0ec17f48",
   "metadata": {},
   "outputs": [],
   "source": []
  }
 ],
 "metadata": {
  "kernelspec": {
   "display_name": "Python 3 (ipykernel)",
   "language": "python",
   "name": "python3"
  },
  "language_info": {
   "codemirror_mode": {
    "name": "ipython",
    "version": 3
   },
   "file_extension": ".py",
   "mimetype": "text/x-python",
   "name": "python",
   "nbconvert_exporter": "python",
   "pygments_lexer": "ipython3",
   "version": "3.9.13"
  }
 },
 "nbformat": 4,
 "nbformat_minor": 5
}

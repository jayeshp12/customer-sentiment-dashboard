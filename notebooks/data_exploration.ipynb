{
 "cells": [
  {
   "cell_type": "code",
   "execution_count": 5,
   "id": "fa1730bd",
   "metadata": {},
   "outputs": [
    {
     "name": "stdout",
     "output_type": "stream",
     "text": [
      "Total records: 10261\n",
      "Sample record:\n",
      "{\n",
      "  \"reviewerID\": \"A2IBPI20UZIR0U\",\n",
      "  \"asin\": \"1384719342\",\n",
      "  \"reviewerName\": \"cassandra tu \\\"Yeah, well, that's just like, u...\",\n",
      "  \"helpful\": [\n",
      "    0,\n",
      "    0\n",
      "  ],\n",
      "  \"reviewText\": \"Not much to write about here, but it does exactly what it's supposed to. filters out the pop sounds. now my recordings are much more crisp. it is one of the lowest prices pop filters on amazon so might as well buy it, they honestly work the same despite their pricing,\",\n",
      "  \"overall\": 5.0,\n",
      "  \"summary\": \"good\",\n",
      "  \"unixReviewTime\": 1393545600,\n",
      "  \"reviewTime\": \"02 28, 2014\"\n",
      "}\n"
     ]
    }
   ],
   "source": [
    "import json\n",
    "\n",
    "# File path\n",
    "file_path = '/Users/dinabandhupanigrahi/customer-sentiment-dashboard/data/raw/Musical_Instruments_5.json'\n",
    "\n",
    "# Read line-delimited JSON\n",
    "data = []\n",
    "with open(file_path, 'r') as file:\n",
    "    for line in file:\n",
    "        data.append(json.loads(line))\n",
    "\n",
    "# Display basic information\n",
    "print(f\"Total records: {len(data)}\")\n",
    "print(\"Sample record:\")\n",
    "print(json.dumps(data[0], indent=2))\n"
   ]
  },
  {
   "cell_type": "code",
   "execution_count": 6,
   "id": "55d4020b",
   "metadata": {},
   "outputs": [
    {
     "name": "stdout",
     "output_type": "stream",
     "text": [
      "       reviewerID        asin  \\\n",
      "0  A2IBPI20UZIR0U  1384719342   \n",
      "1  A14VAT5EAX3D9S  1384719342   \n",
      "2  A195EZSQDW3E21  1384719342   \n",
      "3  A2C00NNG1ZQQG2  1384719342   \n",
      "4   A94QU4C90B1AX  1384719342   \n",
      "\n",
      "                                       reviewerName   helpful  \\\n",
      "0  cassandra tu \"Yeah, well, that's just like, u...    [0, 0]   \n",
      "1                                              Jake  [13, 14]   \n",
      "2                     Rick Bennette \"Rick Bennette\"    [1, 1]   \n",
      "3                         RustyBill \"Sunday Rocker\"    [0, 0]   \n",
      "4                                     SEAN MASLANKA    [0, 0]   \n",
      "\n",
      "                                          reviewText  overall  \\\n",
      "0  not much to write about here but it does exact...      5.0   \n",
      "1  the product does exactly as it should and is q...      5.0   \n",
      "2  the primary job of this device is to block the...      5.0   \n",
      "3  nice windscreen protects my mxl mic and preven...      5.0   \n",
      "4  this pop filter is great it looks and performs...      5.0   \n",
      "\n",
      "                                 summary  unixReviewTime   reviewTime  \n",
      "0                                   good      1393545600  02 28, 2014  \n",
      "1                                   Jake      1363392000  03 16, 2013  \n",
      "2                   It Does The Job Well      1377648000  08 28, 2013  \n",
      "3          GOOD WINDSCREEN FOR THE MONEY      1392336000  02 14, 2014  \n",
      "4  No more pops when I record my vocals.      1392940800  02 21, 2014  \n",
      "<class 'pandas.core.frame.DataFrame'>\n",
      "RangeIndex: 10261 entries, 0 to 10260\n",
      "Data columns (total 9 columns):\n",
      " #   Column          Non-Null Count  Dtype  \n",
      "---  ------          --------------  -----  \n",
      " 0   reviewerID      10261 non-null  object \n",
      " 1   asin            10261 non-null  object \n",
      " 2   reviewerName    10234 non-null  object \n",
      " 3   helpful         10261 non-null  object \n",
      " 4   reviewText      10254 non-null  object \n",
      " 5   overall         10261 non-null  float64\n",
      " 6   summary         10261 non-null  object \n",
      " 7   unixReviewTime  10261 non-null  int64  \n",
      " 8   reviewTime      10261 non-null  object \n",
      "dtypes: float64(1), int64(1), object(7)\n",
      "memory usage: 721.6+ KB\n",
      "None\n"
     ]
    }
   ],
   "source": [
    "import pandas as pd\n",
    "\n",
    "# Path to the cleaned data\n",
    "cleaned_data_path = '/Users/dinabandhupanigrahi/customer-sentiment-dashboard/data/processed/Musical_Instruments_cleaned.csv'\n",
    "\n",
    "# Load and inspect\n",
    "df = pd.read_csv(cleaned_data_path)\n",
    "print(df.head())\n",
    "print(df.info())\n"
   ]
  },
  {
   "cell_type": "code",
   "execution_count": null,
   "id": "f76ae35e",
   "metadata": {},
   "outputs": [],
   "source": []
  }
 ],
 "metadata": {
  "kernelspec": {
   "display_name": "Python 3 (ipykernel)",
   "language": "python",
   "name": "python3"
  },
  "language_info": {
   "codemirror_mode": {
    "name": "ipython",
    "version": 3
   },
   "file_extension": ".py",
   "mimetype": "text/x-python",
   "name": "python",
   "nbconvert_exporter": "python",
   "pygments_lexer": "ipython3",
   "version": "3.9.13"
  }
 },
 "nbformat": 4,
 "nbformat_minor": 5
}
